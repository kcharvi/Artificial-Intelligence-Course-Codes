{
  "nbformat": 4,
  "nbformat_minor": 0,
  "metadata": {
    "colab": {
      "name": "Snake Detection System.ipynb",
      "provenance": [],
      "authorship_tag": "ABX9TyMFzIfnOi3BPi7Ma6uGZ3X7",
      "include_colab_link": true
    },
    "kernelspec": {
      "name": "python3",
      "display_name": "Python 3"
    },
    "language_info": {
      "name": "python"
    }
  },
  "cells": [
    {
      "cell_type": "markdown",
      "metadata": {
        "id": "view-in-github",
        "colab_type": "text"
      },
      "source": [
        "<a href=\"https://colab.research.google.com/github/kcharvi/Artificial-Intelligence-Course-Codes/blob/main/Snake_Detection_System.ipynb\" target=\"_parent\"><img src=\"https://colab.research.google.com/assets/colab-badge.svg\" alt=\"Open In Colab\"/></a>"
      ]
    },
    {
      "cell_type": "code",
      "metadata": {
        "colab": {
          "base_uri": "https://localhost:8080/"
        },
        "id": "zcC6vNmVpjwN",
        "outputId": "b54dc835-6915-46bf-945e-e0a5866e2ed3"
      },
      "source": [
        "!git clone \"https://github.com/arjun921/Indian-Snakes-Dataset.git\""
      ],
      "execution_count": null,
      "outputs": [
        {
          "output_type": "stream",
          "text": [
            "Cloning into 'Indian-Snakes-Dataset'...\n",
            "remote: Enumerating objects: 2831, done.\u001b[K\n",
            "remote: Counting objects: 100% (3/3), done.\u001b[K\n",
            "remote: Compressing objects: 100% (3/3), done.\u001b[K\n",
            "remote: Total 2831 (delta 0), reused 0 (delta 0), pack-reused 2828\u001b[K\n",
            "Receiving objects: 100% (2831/2831), 618.30 MiB | 27.43 MiB/s, done.\n",
            "Resolving deltas: 100% (94/94), done.\n",
            "Checking out files: 100% (1782/1782), done.\n"
          ],
          "name": "stdout"
        }
      ]
    },
    {
      "cell_type": "code",
      "metadata": {
        "id": "_dOtf8K6vUam"
      },
      "source": [
        ""
      ],
      "execution_count": null,
      "outputs": []
    }
  ]
}